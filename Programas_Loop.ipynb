{
 "cells": [
  {
   "cell_type": "markdown",
   "id": "ac60394f",
   "metadata": {
    "id": "ac60394f"
   },
   "source": [
    "# Estruturas de repetição\n",
    "\n",
    "<span style=\"color: red;\"><b>Todos os exercícios são feitos partindo-se do pressuposto de que todas as entradas são dadas de forma correta. Casos limite não mencionados no enunciado não são abordados porque não fazem parte do exercício.</b></span>"
   ]
  },
  {
   "cell_type": "code",
   "execution_count": null,
   "id": "c7e250a4",
   "metadata": {
    "id": "c7e250a4"
   },
   "outputs": [],
   "source": []
  },
  {
   "cell_type": "markdown",
   "id": "b3d268b5",
   "metadata": {
    "id": "b3d268b5"
   },
   "source": [
    "#### 1. Faça um programa que peça para o usuário inserir o faturamento dos últimos 5 meses (individualmente) e informe o maior faturamento"
   ]
  },
  {
   "cell_type": "code",
   "execution_count": null,
   "id": "8078e7a5",
   "metadata": {
    "id": "8078e7a5"
   },
   "outputs": [
    {
     "name": "stdout",
     "output_type": "stream",
     "text": [
      "faturamento do mês 1 é R$ 22.22\n",
      "faturamento do mês 2 é R$ 150.0\n",
      "faturamento do mês 3 é R$ 2523.32\n",
      "faturamento do mês 4 é R$ 5.0\n",
      "faturamento do mês 5 é R$ 12134.1\n",
      "O Maior faturamento foi R$12134.1\n",
      "O faturamento médio foi R$2966.928\n",
      "O faturamento total foi R$14834.64\n"
     ]
    }
   ],
   "source": [
    "fat_maior = 0.0\n",
    "fat_total = 0.0\n",
    "fat_medio = 0.0\n",
    "\n",
    "for mes in range(5):\n",
    "    \n",
    "    fat = float(input(f\"Digite o faturamento do mês {mes+1}\"))\n",
    "    print(f\"faturamento do mês {mes+1} é R$ {fat}\")\n",
    "    \n",
    "    fat_total += fat\n",
    "    fat_medio = fat_total / (mes + 1)\n",
    "    \n",
    "    if fat > fat_maior:\n",
    "        fat_maior = fat\n",
    "\n",
    "print(f\"O Maior faturamento foi R${fat_maior}\")\n",
    "print(f\"O faturamento médio foi R${fat_medio}\")\n",
    "print(f\"O faturamento total foi R${fat_total}\")"
   ]
  },
  {
   "cell_type": "markdown",
   "id": "6407824c",
   "metadata": {
    "id": "6407824c"
   },
   "source": [
    "#### 2. Faça um programa que peça para o usuário inserir o faturamento dos últimos 5 meses (individualmente) e informe o faturamento total (soma) e o faturamento médio por mês (média)."
   ]
  },
  {
   "cell_type": "code",
   "execution_count": null,
   "id": "a02320d1",
   "metadata": {
    "id": "a02320d1"
   },
   "outputs": [],
   "source": []
  },
  {
   "cell_type": "markdown",
   "id": "703f3c4d",
   "metadata": {
    "id": "703f3c4d"
   },
   "source": [
    "#### 3. Faça um programa que consiga categorizar a idade das equipes de uma empresa. Faça um programa que peça para n pessoas a sua idade, ao final o programa devera verificar se a média de idade da equipe varia entre 0 e 25 (jovem) ,26 e 60 (sênior) e maior que 60 (idosa); e então, dizer se a equipe é jovem, sênior ou idosa, conforme a média calculada."
   ]
  },
  {
   "cell_type": "code",
   "execution_count": null,
   "id": "b56a85de",
   "metadata": {
    "id": "b56a85de"
   },
   "outputs": [
    {
     "name": "stdout",
     "output_type": "stream",
     "text": [
      "Senior\n",
      "A idade média é 50.00\n",
      "Cadastro cancelado\n"
     ]
    }
   ],
   "source": [
    "cont = 0\n",
    "idade_media =0.0\n",
    "while True:\n",
    "      try:\n",
    "            cont += 1\n",
    "            idade = float(input(\"Digite a idade:\"))\n",
    "            idade_media += idade / cont\n",
    "            \n",
    "            cancelar = input(\"Deseja continar? (s/n):\")\n",
    "            if cancelar.lower() == \"s\":\n",
    "                if 0 < idade_media <= 25:\n",
    "                    print(\"Jovem\")\n",
    "                elif idade_media > 60:\n",
    "                    print(\"Idoso\")\n",
    "                else:\n",
    "                    print(\"Senior\")\n",
    "                print(\"A idade média é {:.2f}\".format(idade_media))\n",
    "                print(\"Cadastro encerrado.\")\n",
    "                break\n",
    "\n",
    "            elif cancelar.lower() == \"n\":\n",
    "                continue\n",
    "      except ValueError:\n",
    "            print(\"Valor inválido. Por favor, digite um número válido para a idade.\")\n",
    "            continue"
   ]
  },
  {
   "cell_type": "markdown",
   "id": "aad21b98",
   "metadata": {
    "id": "aad21b98"
   },
   "source": [
    "#### 4. Numa eleição existem três candidatos. Faça um programa que peça o número total de eleitores. Peça para cada eleitor votar e ao final mostrar o número de votos de cada candidato."
   ]
  },
  {
   "cell_type": "code",
   "execution_count": 50,
   "id": "84aa7a93",
   "metadata": {
    "id": "84aa7a93"
   },
   "outputs": [
    {
     "name": "stdout",
     "output_type": "stream",
     "text": [
      "Houve empate entre os candidatos: Lula com 3 votos, Bolsonaro com 3 votos\n"
     ]
    }
   ],
   "source": [
    "l1 = 0\n",
    "b1 = 0\n",
    "t1 = 0  \n",
    "## Sistema de Votação\n",
    "eleitores = int(input(\"Digite o número de eleitores:\"))\n",
    "for eleitor in range(eleitores):\n",
    "  try:\n",
    "        voto = int(input(\"Digite o nome do candidato:\\n1 - Lula\\n2 -Bolsonaro\\n3 - Tarcísio\\n\"))\n",
    "        match voto:\n",
    "            case 1:\n",
    "                l1 += 1\n",
    "            case 2:\n",
    "                b1 += 1\n",
    "            case 3:\n",
    "                t1 += 1\n",
    "            case _:\n",
    "                print(\"Voto inválido. Tente novamente.\")\n",
    "  except ValueError:\n",
    "        print(\"Entrada inválida. Por favor, digite um número válido para o voto.\")\n",
    "\n",
    "# Determinar o vencedor\n",
    "max_votos = max(l1, b1, t1)\n",
    "if l1 == b1 == t1:\n",
    "    print(\"Houve um empate entre todos os candidatos.\")\n",
    "elif l1 == max_votos and l1 > b1 and l1 > t1:\n",
    "    print(f\"O vencedor é Lula com {l1} votos.\")\n",
    "elif b1 == max_votos and b1 > l1 and b1 > t1:\n",
    "    print(f\"O vencedor é Bolsonaro com {b1} votos.\")\n",
    "elif t1 == max_votos and t1 > l1 and t1 > b1:\n",
    "    print(f\"O vencedor é Tarcísio com {t1} votos.\")\n",
    "else:\n",
    "    # Caso de empate entre candidatos\n",
    "    vencedores = []\n",
    "    if l1 == max_votos:\n",
    "        vencedores.append(f\"Lula com {l1} votos\")\n",
    "    if b1 == max_votos:\n",
    "        vencedores.append(f\"Bolsonaro com {b1} votos\")\n",
    "    if t1 == max_votos:\n",
    "        vencedores.append(f\"Tarcísio com {t1} votos\")\n",
    "    print(\"Houve empate entre os candidatos:\", \", \".join(vencedores))\n",
    "    "
   ]
  },
  {
   "cell_type": "code",
   "execution_count": null,
   "id": "9b42aa28",
   "metadata": {},
   "outputs": [],
   "source": []
  },
  {
   "cell_type": "markdown",
   "id": "6e306453",
   "metadata": {
    "id": "6e306453"
   },
   "source": [
    "#### 5. Faça um programa que calcule o valor total investido por um colecionador em sua coleção de CDs e o valor médio gasto em cada um deles. O usuário deverá informar a quantidade de CDs e o valor para em cada um."
   ]
  },
  {
   "cell_type": "code",
   "execution_count": 2,
   "id": "6b7fa4a2",
   "metadata": {
    "id": "6b7fa4a2"
   },
   "outputs": [
    {
     "name": "stdout",
     "output_type": "stream",
     "text": [
      "quantidade de CDs: 3, Valor total: R$900,valor médio: R$300.0\n"
     ]
    }
   ],
   "source": [
    "qtde_cds = int(input(\"Digite a quantidade de CDs:\"))\n",
    "\n",
    "for qtde_cd in range(qtde_cds):\n",
    "    valor_cds = int(input(\"Digite o valor dos CDs:\"))\n",
    "    valor_total = qtde_cds * valor_cds\n",
    "    valor_medio = valor_total / qtde_cds\n",
    "print(f\"quantidade de CDs: {qtde_cds}, Valor total: R${valor_total},valor médio: R${valor_medio}\")"
   ]
  },
  {
   "cell_type": "markdown",
   "id": "f19c8d86",
   "metadata": {
    "id": "f19c8d86"
   },
   "source": [
    "#### 6. O Sr. Manoel Joaquim possui uma grande loja de artigos de R\\\\$ 1,99, com cerca de 10 caixas. Para agilizar o cálculo de quanto cada cliente deve pagar ele desenvolveu um tabela que contém o número de itens que o cliente comprou e ao lado o valor da conta. Desta forma a atendente do caixa precisa apenas contar quantos itens o cliente está levando e olhar na tabela de preços. Você foi contratado para desenvolver o programa que monta esta tabela de preços, que conterá os preços de 1 até 50 produtos, conforme o exemplo abaixo:\n",
    "<pre>\n",
    "Lojas Quase Dois - Tabela de preços\n",
    "1 - R$ 1.99\n",
    "2 - R$ 3.98\n",
    "...\n",
    "50 - R$ 99.50\n",
    "</pre>"
   ]
  },
  {
   "cell_type": "code",
   "execution_count": null,
   "id": "4fc4d54d",
   "metadata": {
    "id": "4fc4d54d"
   },
   "outputs": [
    {
     "name": "stdout",
     "output_type": "stream",
     "text": [
      "Loja Quase Dois - Tabela de preços\n",
      "1 - R$20\n",
      "2 - R$41\n",
      "3 - R$42\n",
      "4 - R$46\n",
      "5 - R$32\n",
      "6 - R$34\n",
      "7 - R$46\n",
      "8 - R$14\n",
      "9 - R$18\n",
      "10 - R$23\n",
      "11 - R$12\n",
      "12 - R$39\n",
      "13 - R$45\n",
      "14 - R$10\n",
      "15 - R$46\n",
      "16 - R$8\n",
      "17 - R$4\n",
      "18 - R$49\n",
      "19 - R$23\n",
      "20 - R$30\n",
      "21 - R$40\n",
      "22 - R$46\n",
      "23 - R$39\n",
      "24 - R$32\n",
      "25 - R$19\n",
      "26 - R$41\n",
      "27 - R$16\n",
      "28 - R$26\n",
      "29 - R$2\n",
      "30 - R$32\n",
      "31 - R$36\n",
      "32 - R$4\n",
      "33 - R$20\n",
      "34 - R$31\n",
      "35 - R$38\n",
      "36 - R$29\n",
      "37 - R$4\n",
      "38 - R$17\n",
      "39 - R$7\n",
      "40 - R$23\n",
      "41 - R$15\n",
      "42 - R$44\n",
      "43 - R$7\n",
      "44 - R$43\n",
      "45 - R$23\n",
      "46 - R$16\n",
      "47 - R$49\n",
      "48 - R$48\n",
      "49 - R$16\n",
      "50 - R$17\n"
     ]
    }
   ],
   "source": [
    "import random\n",
    "numeros = 50\n",
    "print(\"Loja Quase Dois - Tabela de preços\")\n",
    "for numero in range(numeros):\n",
    "    numeros = random.randint(1,50 )\n",
    "    print(f'{numero+1} - R${numeros}')"
   ]
  },
  {
   "cell_type": "markdown",
   "id": "6cd19c52",
   "metadata": {
    "id": "6cd19c52"
   },
   "source": [
    "#### 7. Um funcionário de uma empresa recebe aumento salarial anualmente: Sabe-se que:\n",
    "<pre>\n",
    "Esse funcionário foi contratado em 1995, com salário inicial de R$ 1.000,00;\n",
    "Em 1996 recebeu aumento de 1,5% sobre seu salário inicial;\n",
    "A partir de 1997 (inclusive), os aumentos salariais sempre correspondem ao dobro do percentual do ano anterior. Faça um programa que determine o salário desse funcionário em 2003. \n",
    "</pre>"
   ]
  },
  {
   "cell_type": "code",
   "execution_count": 15,
   "id": "98a4811b",
   "metadata": {
    "id": "98a4811b"
   },
   "outputs": [
    {
     "name": "stdout",
     "output_type": "stream",
     "text": [
      "Ano 1996: Salário = R$1003.00, com o Bônus = R$3.00\n",
      "Ano 1997: Salário = R$1009.00, com o Bônus = R$6.00\n",
      "Ano 1998: Salário = R$1021.00, com o Bônus = R$12.00\n",
      "Ano 1999: Salário = R$1045.00, com o Bônus = R$24.00\n",
      "Ano 2000: Salário = R$1093.00, com o Bônus = R$48.00\n",
      "Ano 2001: Salário = R$1189.00, com o Bônus = R$96.00\n",
      "Ano 2002: Salário = R$1381.00, com o Bônus = R$192.00\n",
      "Ano 2003: Salário = R$1765.00, com o Bônus = R$384.00\n",
      "Ano 2004: Salário = R$2533.00, com o Bônus = R$768.00\n",
      "Ano 2005: Salário = R$4069.00, com o Bônus = R$1536.00\n",
      "Ano 2006: Salário = R$7141.00, com o Bônus = R$3072.00\n",
      "Ano 2007: Salário = R$13285.00, com o Bônus = R$6144.00\n",
      "Ano 2008: Salário = R$25573.00, com o Bônus = R$12288.00\n",
      "Ano 2009: Salário = R$50149.00, com o Bônus = R$24576.00\n",
      "Ano 2010: Salário = R$99301.00, com o Bônus = R$49152.00\n",
      "Ano 2011: Salário = R$197605.00, com o Bônus = R$98304.00\n",
      "Ano 2012: Salário = R$394213.00, com o Bônus = R$196608.00\n",
      "Ano 2013: Salário = R$787429.00, com o Bônus = R$393216.00\n",
      "Ano 2014: Salário = R$1573861.00, com o Bônus = R$786432.00\n",
      "Ano 2015: Salário = R$3146725.00, com o Bônus = R$1572864.00\n",
      "Ano 2016: Salário = R$6292453.00, com o Bônus = R$3145728.00\n",
      "Ano 2017: Salário = R$12583909.00, com o Bônus = R$6291456.00\n",
      "Ano 2018: Salário = R$25166821.00, com o Bônus = R$12582912.00\n",
      "Ano 2019: Salário = R$50332645.00, com o Bônus = R$25165824.00\n",
      "Ano 2020: Salário = R$100664293.00, com o Bônus = R$50331648.00\n",
      "Ano 2021: Salário = R$201327589.00, com o Bônus = R$100663296.00\n",
      "Ano 2022: Salário = R$402654181.00, com o Bônus = R$201326592.00\n",
      "Ano 2023: Salário = R$805307365.00, com o Bônus = R$402653184.00\n",
      "Ano 2024: Salário = R$1610613733.00, com o Bônus = R$805306368.00\n"
     ]
    }
   ],
   "source": [
    "ano_final = 2025\n",
    "ano_inicial = 1996\n",
    "bonus = 1.5\n",
    "salario = 1000.0\n",
    "\n",
    "diferenca_anos = ano_final - ano_inicial\n",
    "for ano in range(diferenca_anos):\n",
    "    bonus *= 2\n",
    "    salario += bonus\n",
    "    print(f\"Ano {ano_inicial + ano}: Salário = R${salario:.2f}, com o Bônus = R${bonus:.2f}\")\n",
    "    "
   ]
  },
  {
   "cell_type": "markdown",
   "id": "227928d1",
   "metadata": {
    "id": "227928d1"
   },
   "source": [
    "#### 8. O cardápio de uma lanchonete é o seguinte:\n",
    "<pre>\n",
    "Especificação   Código  Preço\n",
    "Cachorro Quente 100     R$ 1,20\n",
    "Bauru Simples   101     R$ 1,30\n",
    "Bauru com ovo   102     R$ 1,50\n",
    "Hambúrguer      103     R$ 1,20\n",
    "Cheeseburguer   104     R$ 1,30\n",
    "Refrigerante    105     R$ 1,00\n",
    "Faça um programa que leia o código dos itens pedidos e as quantidades desejadas. Calcule e mostre o valor a ser pago por item (preço * quantidade) e o total geral do pedido. Considere que o cliente deve informar quando o pedido deve ser encerrado.\n",
    "</pre>"
   ]
  },
  {
   "cell_type": "code",
   "execution_count": 61,
   "id": "8a784b86",
   "metadata": {
    "id": "8a784b86"
   },
   "outputs": [
    {
     "name": "stdout",
     "output_type": "stream",
     "text": [
      "Especificação   Código  Preço\n",
      "Cachorro Quente 100   R$   1.2    \n",
      "Bauru Simples   101   R$   1.3    \n",
      "Bauru com ovo   102   R$   1.5    \n",
      "Hambúrguer      103   R$   1.2    \n",
      "Cheeseburguer   104   R$   1.3    \n",
      "Refrigerante    105   R$   1.0    \n",
      "total a pagar: R$6.00\n"
     ]
    }
   ],
   "source": [
    "produto = [\"Cachorro Quente\",\"Bauru Simples\",\"Bauru com ovo\", \"Hambúrguer\",\"Cheeseburguer\" ,\"Refrigerante\"]\n",
    "codigo = [100,101,102 ,103,104 ,105]\n",
    "preco =\t[1.20,1.30,1.50,1.20,1.30,1.00]\n",
    "\n",
    "# # Exibir o cardápio\n",
    "print(\"Especificação   Código  Preço\")\n",
    "for i, cardapio in enumerate(produto):\n",
    "    print(\"{:<15} {:<5} R${:^10}\".format(cardapio,codigo[i],preco[i]))\n",
    "    \n",
    "pedido = int(input(\"Digite o código do do produto:\"))\n",
    "if pedido in codigo:\n",
    "    index = codigo.index(pedido)\n",
    "    quantidade = int(input(\"Digite a quantidade do produto\"))\n",
    "    total = preco[index] * quantidade\n",
    "    print(f\"total a pagar: R${total:.2f}\")"
   ]
  },
  {
   "cell_type": "markdown",
   "id": "9877b8ba",
   "metadata": {
    "id": "9877b8ba"
   },
   "source": [
    "#### 9. Uma grande emissora de televisão quer fazer uma enquete entre os seus telespectadores para saber qual o melhor jogador após cada jogo. Para isto, faz-se necessário o desenvolvimento de um programa, que será utilizado pelas telefonistas, para a computação dos votos. Sua equipe foi contratada para desenvolver este programa, utilizando a linguagem de programação Python. Para computar cada voto, a telefonista digitará um número, entre 1 e 23, correspondente ao número da camisa do jogador. Um número de jogador igual zero, indica que a votação foi encerrada. Se um número inválido for digitado, o programa deve ignorá-lo, mostrando uma breve mensagem de aviso, e voltando a pedir outro número. Após o final da votação, o programa deverá exibir:\n",
    "<pre>a. O total de votos computados;\n",
    "b. Os números e respectivos votos de todos os jogadores que receberam votos;\n",
    "c. O percentual de votos de cada um destes jogadores;\n",
    "d. O número do jogador escolhido como o melhor jogador da partida, juntamente com o número de votos e o percentual de votos dados a ele.\n",
    "        Observe que os votos inválidos e o zero final não devem ser computados como votos. O resultado aparece ordenado pelo número do jogador. O programa deve fazer uso de arrays. O programa deverá executar o cálculo do percentual de cada jogador através de uma função. Esta função receberá dois parâmetros: o número de votos de um jogador e o total de votos. A função calculará o percentual e retornará o valor calculado. Abaixo segue uma tela de exemplo. O disposição das informações deve ser o mais próxima possível ao exemplo. Os dados são fictícios e podem mudar a cada execução do programa. Ao final, o programa deve ainda gravar os dados referentes ao resultado da votação em um arquivo texto no disco, obedecendo a mesma disposição apresentada na tela.</pre>\n",
    "```\n",
    "Enquete: Quem foi o melhor jogador?\n",
    "\n",
    "Número do jogador (0=fim): 9\n",
    "Número do jogador (0=fim): 10\n",
    "Número do jogador (0=fim): 9\n",
    "Número do jogador (0=fim): 10\n",
    "Número do jogador (0=fim): 11\n",
    "Número do jogador (0=fim): 10\n",
    "Número do jogador (0=fim): 50\n",
    "Informe um valor entre 1 e 23 ou 0 para sair!\n",
    "Número do jogador (0=fim): 9\n",
    "Número do jogador (0=fim): 9\n",
    "Número do jogador (0=fim): 0\n",
    "\n",
    "Resultado da votação:\n",
    "\n",
    "Foram computados 8 votos.\n",
    "\n",
    "Jogador Votos           %\n",
    "9               4               50,0%\n",
    "10              3               37,5%\n",
    "11              1               12,5%\n",
    "``` "
   ]
  },
  {
   "cell_type": "code",
   "execution_count": 11,
   "id": "79b82364",
   "metadata": {
    "id": "79b82364"
   },
   "outputs": [
    {
     "name": "stdout",
     "output_type": "stream",
     "text": [
      "Votação encerrada.\n",
      "Total de votos computados: 6\n",
      "Jogadores e seus votos:\n",
      "Jogador 2 recebeu 3 votos, com percentual de 50.00%\n",
      "Jogador 3 recebeu 2 votos, com percentual de 33.33%\n",
      "Jogador 4 recebeu 1 votos, com percentual de 16.67%\n"
     ]
    }
   ],
   "source": [
    "mais_votado =[]\n",
    "qtde_votos = []\n",
    "cont = 0\n",
    "\n",
    "for i, votos in enumerate(range(1,24)):\n",
    "    try:\n",
    "        votos = int(input(f\"Digite o número do jogador (1-23 ou 0 para Sair):\"))\n",
    "        if votos == 0:\n",
    "            print(\"Votação encerrada.\")\n",
    "            break\n",
    "        elif 1 <= votos <=23:\n",
    "            if votos not in mais_votado:\n",
    "                mais_votado.append(votos)\n",
    "                qtde_votos.append(1)\n",
    "            else:\n",
    "                index = mais_votado.index(votos)\n",
    "                qtde_votos[index] +=1\n",
    "        else:\n",
    "            print(\"Número inválido. Tente novamente.\")\n",
    "            \n",
    "    except ValueError:\n",
    "        print(\"Entrada inválida. Por favor, digite um número válido.\")\n",
    "\n",
    "total = sum(qtde_votos)\n",
    "print(\"Total de votos computados:\", total)\n",
    "print(\"Jogadores e seus votos:\")\n",
    "\n",
    "for voto in range(len(mais_votado)):\n",
    "    percent  = qtde_votos[voto] / total * 100\n",
    "    print(f\"Jogador {mais_votado[voto]} recebeu {qtde_votos[voto]} votos, com percentual de {percent:.2f}%\")\n"
   ]
  },
  {
   "cell_type": "code",
   "execution_count": null,
   "id": "1c70fae5",
   "metadata": {},
   "outputs": [],
   "source": []
  },
  {
   "cell_type": "code",
   "execution_count": null,
   "id": "ee8dd79b",
   "metadata": {},
   "outputs": [],
   "source": []
  }
 ],
 "metadata": {
  "colab": {
   "collapsed_sections": [],
   "provenance": []
  },
  "kernelspec": {
   "display_name": "Python 3",
   "language": "python",
   "name": "python3"
  },
  "language_info": {
   "codemirror_mode": {
    "name": "ipython",
    "version": 3
   },
   "file_extension": ".py",
   "mimetype": "text/x-python",
   "name": "python",
   "nbconvert_exporter": "python",
   "pygments_lexer": "ipython3",
   "version": "3.11.11"
  }
 },
 "nbformat": 4,
 "nbformat_minor": 5
}
